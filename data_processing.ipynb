{
  "cells": [
    {
      "cell_type": "markdown",
      "metadata": {
        "id": "view-in-github",
        "colab_type": "text"
      },
      "source": [
        "<a href=\"https://colab.research.google.com/github/idocarmo/LAB6/blob/develop/data_processing.ipynb\" target=\"_parent\"><img src=\"https://colab.research.google.com/assets/colab-badge.svg\" alt=\"Open In Colab\"/></a>"
      ]
    },
    {
      "cell_type": "markdown",
      "metadata": {
        "id": "zzzna8iI3yDX"
      },
      "source": [
        "# Data Processing"
      ]
    },
    {
      "cell_type": "markdown",
      "metadata": {
        "id": "XzxHcZMW3yDd"
      },
      "source": [
        "## Transforming the Time Array to a Random Bit Array"
      ]
    },
    {
      "cell_type": "code",
      "execution_count": 1,
      "metadata": {
        "id": "G46yvmNY3yDg"
      },
      "outputs": [],
      "source": [
        "import numpy as np\n",
        "import matplotlib.pyplot as plt"
      ]
    },
    {
      "cell_type": "code",
      "source": [
        "from google.colab import drive\n",
        "drive.mount('/content/drive')"
      ],
      "metadata": {
        "colab": {
          "base_uri": "https://localhost:8080/"
        },
        "id": "NItoRnIg3-Q9",
        "outputId": "53933103-7b23-4101-85fd-265b9a09e5b2"
      },
      "execution_count": 2,
      "outputs": [
        {
          "output_type": "stream",
          "name": "stdout",
          "text": [
            "Mounted at /content/drive\n"
          ]
        }
      ]
    },
    {
      "cell_type": "code",
      "execution_count": 6,
      "metadata": {
        "id": "4XAwVHSs3yDi"
      },
      "outputs": [],
      "source": [
        "INPUT_FOLDER_PATH = r\"/content/drive/MyDrive/LAB6/data/01_raw/\"\n",
        "OUTPUT_FOLDER_PATH = r\"/content/drive/MyDrive/LAB6/data/02_processed/\""
      ]
    },
    {
      "cell_type": "code",
      "execution_count": 7,
      "metadata": {
        "id": "TNnmlgZB3yDk"
      },
      "outputs": [],
      "source": [
        "BACKGROUND_FILE = \"peaksfile_fundo.csv\"\n",
        "CESIUM_25MM_FILE = \"peaksfile_25mm_cs_total.csv\"\n",
        "CESIUM_65MM_FILE = \"peaksfile_65mm_cs_total.csv\""
      ]
    },
    {
      "cell_type": "code",
      "execution_count": 8,
      "metadata": {
        "id": "T8bajdDC3yDm"
      },
      "outputs": [],
      "source": [
        "background_data = np.loadtxt(INPUT_FOLDER_PATH + BACKGROUND_FILE, delimiter=',')\n",
        "background_data = background_data[1:, 0]\n",
        "background_data = background_data.astype(int)"
      ]
    },
    {
      "cell_type": "code",
      "execution_count": 9,
      "metadata": {
        "id": "AhtWM9Es3yDn"
      },
      "outputs": [],
      "source": [
        "cesium_25mm_data = np.loadtxt(INPUT_FOLDER_PATH + CESIUM_25MM_FILE, delimiter=',')\n",
        "cesium_25mm_data = cesium_25mm_data[1:, 0]\n",
        "cesium_25mm_data = cesium_25mm_data.astype(int)"
      ]
    },
    {
      "cell_type": "code",
      "execution_count": 10,
      "metadata": {
        "id": "_meoIyrL3yDn"
      },
      "outputs": [],
      "source": [
        "cesium_65mm_data = np.loadtxt(INPUT_FOLDER_PATH + CESIUM_65MM_FILE, delimiter=',')\n",
        "cesium_65mm_data = cesium_65mm_data[1:, 0]\n",
        "cesium_65mm_data = cesium_65mm_data.astype(int)"
      ]
    },
    {
      "cell_type": "code",
      "execution_count": 13,
      "metadata": {
        "id": "WP-fgjV03yDp"
      },
      "outputs": [],
      "source": [
        "def generate_bit_array(time_array: np.array) -> np.array:\n",
        "    time_delta = (time_array[1:] - time_array[:-1])\n",
        "    N_BITS = time_delta.size - 1\n",
        "    bit_array = np.zeros(N_BITS, dtype=int)\n",
        "\n",
        "    for i in range(N_BITS):\n",
        "        if time_delta[i+1] < time_delta[i]:\n",
        "            bit_array[i] = 1\n",
        "        else:\n",
        "            bit_array[i] = 0\n",
        "    return bit_array"
      ]
    },
    {
      "cell_type": "code",
      "execution_count": 14,
      "metadata": {
        "colab": {
          "base_uri": "https://localhost:8080/"
        },
        "id": "J1t3_QqE3yDq",
        "outputId": "530bdefb-7483-4876-c973-243e3a1dcd94"
      },
      "outputs": [
        {
          "output_type": "execute_result",
          "data": {
            "text/plain": [
              "0.4983125"
            ]
          },
          "metadata": {},
          "execution_count": 14
        }
      ],
      "source": [
        "background_bit = generate_bit_array(background_data)\n",
        "sum(background_bit==1)/background_bit.size"
      ]
    },
    {
      "cell_type": "code",
      "execution_count": 15,
      "metadata": {
        "colab": {
          "base_uri": "https://localhost:8080/"
        },
        "id": "kImL-MNs3yDt",
        "outputId": "a79fd470-675a-4445-8065-09c834740e5f"
      },
      "outputs": [
        {
          "output_type": "execute_result",
          "data": {
            "text/plain": [
              "0.504791875"
            ]
          },
          "metadata": {},
          "execution_count": 15
        }
      ],
      "source": [
        "cesium_25mm_bit = generate_bit_array(cesium_25mm_data)\n",
        "sum(cesium_25mm_bit==1)/cesium_25mm_bit.size"
      ]
    },
    {
      "cell_type": "code",
      "execution_count": 16,
      "metadata": {
        "colab": {
          "base_uri": "https://localhost:8080/"
        },
        "id": "DqPdRXhT3yDv",
        "outputId": "0cf1bd1a-333d-43ef-a5eb-5a02f7309f63"
      },
      "outputs": [
        {
          "output_type": "execute_result",
          "data": {
            "text/plain": [
              "0.508721875"
            ]
          },
          "metadata": {},
          "execution_count": 16
        }
      ],
      "source": [
        "cesium_65mm_bit = generate_bit_array(cesium_65mm_data)\n",
        "sum(cesium_65mm_bit==1)/cesium_65mm_bit.size"
      ]
    },
    {
      "cell_type": "markdown",
      "metadata": {
        "id": "gvcvG5Co3yDw"
      },
      "source": [
        "### Exporting the Bit Arrays"
      ]
    },
    {
      "cell_type": "code",
      "execution_count": 22,
      "metadata": {
        "id": "R3emUgM-3yDx"
      },
      "outputs": [],
      "source": [
        "OUTPUT_BACKGROUND_FILE = \"bit_fundo.csv\"\n",
        "OUTPUT_CESIUM_25MM_FILE = \"bit_25mm_cs.csv\"\n",
        "OUTPUT_CESIUM_65MM_FILE = \"bit_65mm_cs.csv\""
      ]
    },
    {
      "cell_type": "code",
      "execution_count": 23,
      "metadata": {
        "id": "i118fF3G3yDz"
      },
      "outputs": [],
      "source": [
        "np.savetxt(OUTPUT_FOLDER_PATH + OUTPUT_BACKGROUND_FILE, background_bit, fmt=\"%d\", delimiter=\"\")"
      ]
    },
    {
      "cell_type": "code",
      "execution_count": 20,
      "metadata": {
        "id": "mADsAqZt3yD0"
      },
      "outputs": [],
      "source": [
        "np.savetxt(OUTPUT_FOLDER_PATH + OUTPUT_CESIUM_25MM_FILE, cesium_25mm_bit, fmt=\"%d\", delimiter=\"\")"
      ]
    },
    {
      "cell_type": "code",
      "execution_count": 21,
      "metadata": {
        "id": "0cGfO0FX3yD0"
      },
      "outputs": [],
      "source": [
        "np.savetxt(OUTPUT_FOLDER_PATH + OUTPUT_CESIUM_65MM_FILE, cesium_65mm_bit, fmt=\"%d\", delimiter=\"\")"
      ]
    }
  ],
  "metadata": {
    "interpreter": {
      "hash": "d555ea6a4175b272199a7ab20cc234ec5e071c3554dbdb67b85b88ea961a39f2"
    },
    "kernelspec": {
      "display_name": "Python 3.10.2 ('usp')",
      "language": "python",
      "name": "python3"
    },
    "language_info": {
      "codemirror_mode": {
        "name": "ipython",
        "version": 3
      },
      "file_extension": ".py",
      "mimetype": "text/x-python",
      "name": "python",
      "nbconvert_exporter": "python",
      "pygments_lexer": "ipython3",
      "version": "3.10.2"
    },
    "orig_nbformat": 4,
    "colab": {
      "provenance": [],
      "include_colab_link": true
    }
  },
  "nbformat": 4,
  "nbformat_minor": 0
}