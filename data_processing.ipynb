{
 "cells": [
  {
   "cell_type": "markdown",
   "metadata": {},
   "source": [
    "# Data Processing"
   ]
  },
  {
   "cell_type": "markdown",
   "metadata": {},
   "source": [
    "## Transforming the Time Array to a Random Bit Array"
   ]
  },
  {
   "cell_type": "code",
   "execution_count": 1,
   "metadata": {},
   "outputs": [],
   "source": [
    "import numpy as np\n",
    "import matplotlib.pyplot as plt"
   ]
  },
  {
   "cell_type": "code",
   "execution_count": 2,
   "metadata": {},
   "outputs": [],
   "source": [
    "INPUT_FOLDER_PATH = r\"data/01_raw/\"\n",
    "OUTPUT_FOLDER_PATH = r\"data/02_processed/\""
   ]
  },
  {
   "cell_type": "code",
   "execution_count": 3,
   "metadata": {},
   "outputs": [],
   "source": [
    "BACKGROUND_FILE = \"peaksfile_fundo.csv\"\n",
    "CESIUM_25MM_FILE = \"peaksfile_25mm_cs_total.csv\"\n",
    "CESIUM_65MM_FILE = \"peaksfile_65mm_cs_total.csv\""
   ]
  },
  {
   "cell_type": "code",
   "execution_count": 4,
   "metadata": {},
   "outputs": [],
   "source": [
    "background_data = np.loadtxt(INPUT_FOLDER_PATH + BACKGROUND_FILE, delimiter=',')\n",
    "background_data = background_data[1:, 0]\n",
    "background_data = background_data.astype(int)"
   ]
  },
  {
   "cell_type": "code",
   "execution_count": 5,
   "metadata": {},
   "outputs": [],
   "source": [
    "cesium_25mm_data = np.loadtxt(INPUT_FOLDER_PATH + CESIUM_25MM_FILE, delimiter=',')\n",
    "cesium_25mm_data = cesium_25mm_data[1:, 0]\n",
    "cesium_25mm_data = cesium_25mm_data.astype(int)"
   ]
  },
  {
   "cell_type": "code",
   "execution_count": 6,
   "metadata": {},
   "outputs": [],
   "source": [
    "cesium_65mm_data = np.loadtxt(INPUT_FOLDER_PATH + CESIUM_65MM_FILE, delimiter=',')\n",
    "cesium_65mm_data = cesium_65mm_data[1:, 0]\n",
    "cesium_65mm_data = cesium_65mm_data.astype(int)"
   ]
  },
  {
   "cell_type": "code",
   "execution_count": 19,
   "metadata": {},
   "outputs": [],
   "source": [
    "def generate_bit_array(time_array: np.array) -> np.array:\n",
    "    time_delta = (time_array[1:] - time_array[:-1])\n",
    "    N_BITS = time_delta.size - 1\n",
    "    bit_array = np.zeros(N_BITS, dtype=int)\n",
    "\n",
    "    for i in range(N_BITS):\n",
    "        if time_delta[i+1] <= time_delta[i]:\n",
    "            bit_array[i] = 1\n",
    "        else:\n",
    "            bit_array[i] = 0\n",
    "    return bit_array"
   ]
  },
  {
   "cell_type": "code",
   "execution_count": 20,
   "metadata": {},
   "outputs": [
    {
     "data": {
      "text/plain": [
       "0.498625"
      ]
     },
     "execution_count": 20,
     "metadata": {},
     "output_type": "execute_result"
    }
   ],
   "source": [
    "background_bit = generate_bit_array(background_data)\n",
    "sum(background_bit==1)/background_bit.size"
   ]
  },
  {
   "cell_type": "code",
   "execution_count": 9,
   "metadata": {},
   "outputs": [
    {
     "data": {
      "text/plain": [
       "0.511030625"
      ]
     },
     "execution_count": 9,
     "metadata": {},
     "output_type": "execute_result"
    }
   ],
   "source": [
    "cesium_25mm_bit = generate_bit_array(cesium_25mm_data)\n",
    "sum(cesium_25mm_bit==1)/cesium_25mm_bit.size"
   ]
  },
  {
   "cell_type": "code",
   "execution_count": 10,
   "metadata": {},
   "outputs": [
    {
     "data": {
      "text/plain": [
       "0.5123825"
      ]
     },
     "execution_count": 10,
     "metadata": {},
     "output_type": "execute_result"
    }
   ],
   "source": [
    "cesium_65mm_bit = generate_bit_array(cesium_65mm_data)\n",
    "sum(cesium_65mm_bit==1)/cesium_65mm_bit.size"
   ]
  },
  {
   "cell_type": "markdown",
   "metadata": {},
   "source": [
    "### Exporting the Bit Arrays"
   ]
  },
  {
   "cell_type": "code",
   "execution_count": 31,
   "metadata": {},
   "outputs": [],
   "source": [
    "OUTPUT_BACKGROUND_FILE = \"bit_fundo.pi\"\n",
    "OUTPUT_CESIUM_25MM_FILE = \"bit_25mm_cs.csv\"\n",
    "OUTPUT_CESIUM_65MM_FILE = \"bit_65mm_cs.csv\""
   ]
  },
  {
   "cell_type": "code",
   "execution_count": 33,
   "metadata": {},
   "outputs": [],
   "source": [
    "np.savetxt(OUTPUT_FOLDER_PATH + OUTPUT_BACKGROUND_FILE, background_bit, fmt=\"%d\", delimiter=\"\")"
   ]
  },
  {
   "cell_type": "code",
   "execution_count": 29,
   "metadata": {},
   "outputs": [],
   "source": [
    "np.savetxt(OUTPUT_FOLDER_PATH + OUTPUT_CESIUM_25MM_FILE, cesium_25mm_bit.reshape(-1, 16), fmt=\"%d\", delimiter=\"\")"
   ]
  },
  {
   "cell_type": "code",
   "execution_count": 30,
   "metadata": {},
   "outputs": [],
   "source": [
    "np.savetxt(OUTPUT_FOLDER_PATH + OUTPUT_CESIUM_65MM_FILE, cesium_65mm_bit.reshape(-1, 16), fmt=\"%d\", delimiter=\"\")"
   ]
  },
  {
   "cell_type": "markdown",
   "metadata": {},
   "source": [
    "## Randomness Test"
   ]
  },
  {
   "cell_type": "code",
   "execution_count": 53,
   "metadata": {},
   "outputs": [
    {
     "data": {
      "text/plain": [
       "0.4"
      ]
     },
     "execution_count": 53,
     "metadata": {},
     "output_type": "execute_result"
    }
   ],
   "source": [
    "abs((cesium_65mm_bit[:100]==1).sum()-(cesium_65mm_bit[:100]==0).sum())/np.sqrt(cesium_65mm_bit[:100].size)"
   ]
  },
  {
   "cell_type": "code",
   "execution_count": 50,
   "metadata": {},
   "outputs": [],
   "source": [
    "from scipy.integrate import quad\n",
    "\n",
    "def integrand(u):\n",
    "    return (2/np.sqrt(np.pi))*np.exp(-u**2) "
   ]
  },
  {
   "cell_type": "code",
   "execution_count": 54,
   "metadata": {},
   "outputs": [
    {
     "data": {
      "text/plain": [
       "(0.5716076449533316, 5.396064303027623e-09)"
      ]
     },
     "execution_count": 54,
     "metadata": {},
     "output_type": "execute_result"
    }
   ],
   "source": [
    "quad(integrand, 0.4, np.inf)"
   ]
  },
  {
   "cell_type": "code",
   "execution_count": null,
   "metadata": {},
   "outputs": [],
   "source": [
    "def integrand(u, z, b):\n",
    "\n",
    "    return a*x**2 + b"
   ]
  }
 ],
 "metadata": {
  "interpreter": {
   "hash": "d555ea6a4175b272199a7ab20cc234ec5e071c3554dbdb67b85b88ea961a39f2"
  },
  "kernelspec": {
   "display_name": "Python 3.10.2 ('usp')",
   "language": "python",
   "name": "python3"
  },
  "language_info": {
   "codemirror_mode": {
    "name": "ipython",
    "version": 3
   },
   "file_extension": ".py",
   "mimetype": "text/x-python",
   "name": "python",
   "nbconvert_exporter": "python",
   "pygments_lexer": "ipython3",
   "version": "3.10.2"
  },
  "orig_nbformat": 4
 },
 "nbformat": 4,
 "nbformat_minor": 2
}
