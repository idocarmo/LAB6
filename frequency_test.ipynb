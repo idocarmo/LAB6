{
  "cells": [
    {
      "cell_type": "markdown",
      "metadata": {
        "id": "view-in-github",
        "colab_type": "text"
      },
      "source": [
        "<a href=\"https://colab.research.google.com/github/idocarmo/LAB6/blob/develop/frequency_test.ipynb\" target=\"_parent\"><img src=\"https://colab.research.google.com/assets/colab-badge.svg\" alt=\"Open In Colab\"/></a>"
      ]
    },
    {
      "cell_type": "markdown",
      "metadata": {
        "id": "qA9xXwKpfetc"
      },
      "source": [
        "# Frequency Test\n",
        "## Validating the Bit Array Randomness "
      ]
    },
    {
      "cell_type": "code",
      "execution_count": 1,
      "metadata": {
        "id": "ggu3bJs0fetf"
      },
      "outputs": [],
      "source": [
        "import numpy as np\n",
        "import matplotlib.pyplot as plt\n",
        "from scipy.integrate import quad"
      ]
    },
    {
      "cell_type": "code",
      "source": [
        "from google.colab import drive\n",
        "drive.mount('/content/drive')"
      ],
      "metadata": {
        "colab": {
          "base_uri": "https://localhost:8080/"
        },
        "id": "lZRrU_Frf7oh",
        "outputId": "c9472256-01d8-4542-aab0-483303bf12b8"
      },
      "execution_count": 2,
      "outputs": [
        {
          "output_type": "stream",
          "name": "stdout",
          "text": [
            "Mounted at /content/drive\n"
          ]
        }
      ]
    },
    {
      "cell_type": "code",
      "execution_count": 3,
      "metadata": {
        "id": "id1-863rfeth"
      },
      "outputs": [],
      "source": [
        "FOLDER_PATH = r\"/content/drive/MyDrive/LAB6/data/02_processed/\""
      ]
    },
    {
      "cell_type": "code",
      "execution_count": 4,
      "metadata": {
        "id": "WxBy-S0cfeth"
      },
      "outputs": [],
      "source": [
        "BACKGROUND_FILE = \"bit_fundo.csv\"\n",
        "CESIUM_25MM_FILE = \"bit_25mm_cs.csv\"\n",
        "CESIUM_65MM_FILE = \"bit_65mm_cs.csv\""
      ]
    },
    {
      "cell_type": "code",
      "source": [
        "bit_background = np.loadtxt(FOLDER_PATH + BACKGROUND_FILE, delimiter=\" \", dtype=int)"
      ],
      "metadata": {
        "id": "2xdrLl9Piisj"
      },
      "execution_count": 10,
      "outputs": []
    },
    {
      "cell_type": "code",
      "source": [
        "bit_25mm_cs = np.loadtxt(FOLDER_PATH + CESIUM_25MM_FILE, delimiter=\" \", dtype=int)"
      ],
      "metadata": {
        "id": "OD9FxvbxpPLt"
      },
      "execution_count": 11,
      "outputs": []
    },
    {
      "cell_type": "code",
      "source": [
        "bit_65mm_cs = np.loadtxt(FOLDER_PATH + CESIUM_65MM_FILE, delimiter=\" \", dtype=int)"
      ],
      "metadata": {
        "id": "eCiD2-SHppOi"
      },
      "execution_count": 12,
      "outputs": []
    },
    {
      "cell_type": "code",
      "source": [
        "def erfc(s):\n",
        "    \"\"\"Complementary Error Function\n",
        "    \"\"\"\n",
        "    def integrand(u):\n",
        "        return (2/np.sqrt(np.pi))*np.exp(-u**2)\n",
        "\n",
        "    return quad(integrand, s, np.inf)[0]"
      ],
      "metadata": {
        "id": "VTASfjkxl7hr"
      },
      "execution_count": 13,
      "outputs": []
    },
    {
      "cell_type": "code",
      "execution_count": 14,
      "metadata": {
        "id": "C7RdxZ62feti"
      },
      "outputs": [],
      "source": [
        "def frequency_test(bit_array: np.array, n_bit_streams: int=2) -> np.array:\n",
        "    bit_array = bit_array.copy()\n",
        "\n",
        "    bit_array = bit_array.reshape(n_bit_streams, -1)\n",
        "\n",
        "    pvalue_array = np.zeros(n_bit_streams, dtype=float)\n",
        "\n",
        "    for i, bit_stream in enumerate(bit_array):\n",
        "        S = abs(sum(bit_stream==1) - sum(bit_stream==0))\n",
        "        s_obs = S/np.sqrt(bit_stream.size)\n",
        "        \n",
        "        pvalue = erfc(s_obs/np.sqrt(2))\n",
        "\n",
        "        pvalue_array[i] = pvalue\n",
        "\n",
        "    return pvalue_array"
      ]
    },
    {
      "cell_type": "code",
      "source": [
        "sum(frequency_test(bit_background, n_bit_streams=10)>0.01)"
      ],
      "metadata": {
        "id": "-tFaNHgptGrN",
        "outputId": "c8af573a-894d-4b32-8696-03469d2f1a20",
        "colab": {
          "base_uri": "https://localhost:8080/"
        }
      },
      "execution_count": 21,
      "outputs": [
        {
          "output_type": "execute_result",
          "data": {
            "text/plain": [
              "10"
            ]
          },
          "metadata": {},
          "execution_count": 21
        }
      ]
    },
    {
      "cell_type": "code",
      "source": [
        "sum(frequency_test(bit_25mm_cs, n_bit_streams=1000)>0.01)"
      ],
      "metadata": {
        "id": "JjqV9WMos9IA",
        "outputId": "b26cf1fa-90c3-4a0b-c64d-b90ead283e2f",
        "colab": {
          "base_uri": "https://localhost:8080/"
        }
      },
      "execution_count": 20,
      "outputs": [
        {
          "output_type": "execute_result",
          "data": {
            "text/plain": [
              "1000"
            ]
          },
          "metadata": {},
          "execution_count": 20
        }
      ]
    },
    {
      "cell_type": "code",
      "source": [
        "sum(frequency_test(bit_65mm_cs, n_bit_streams=1000)>0.01)"
      ],
      "metadata": {
        "id": "F2N53JPTsnns",
        "outputId": "537c078d-3053-4276-9f42-b531d50e16cb",
        "colab": {
          "base_uri": "https://localhost:8080/"
        }
      },
      "execution_count": 17,
      "outputs": [
        {
          "output_type": "execute_result",
          "data": {
            "text/plain": [
              "1000"
            ]
          },
          "metadata": {},
          "execution_count": 17
        }
      ]
    }
  ],
  "metadata": {
    "kernelspec": {
      "display_name": "base",
      "language": "python",
      "name": "python3"
    },
    "language_info": {
      "codemirror_mode": {
        "name": "ipython",
        "version": 3
      },
      "file_extension": ".py",
      "mimetype": "text/x-python",
      "name": "python",
      "nbconvert_exporter": "python",
      "pygments_lexer": "ipython3",
      "version": "3.9.13"
    },
    "orig_nbformat": 4,
    "vscode": {
      "interpreter": {
        "hash": "bbe3c7c8ecac9c815b8c35358e3af74cf692500f19e74b6b7e87270d16e54c29"
      }
    },
    "colab": {
      "provenance": [],
      "include_colab_link": true
    }
  },
  "nbformat": 4,
  "nbformat_minor": 0
}