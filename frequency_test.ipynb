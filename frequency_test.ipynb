{
  "cells": [
    {
      "cell_type": "markdown",
      "metadata": {
        "id": "view-in-github",
        "colab_type": "text"
      },
      "source": [
        "<a href=\"https://colab.research.google.com/github/idocarmo/LAB6/blob/main/frequency_test.ipynb\" target=\"_parent\"><img src=\"https://colab.research.google.com/assets/colab-badge.svg\" alt=\"Open In Colab\"/></a>"
      ]
    },
    {
      "cell_type": "markdown",
      "metadata": {
        "id": "qA9xXwKpfetc"
      },
      "source": [
        "# Frequency Test\n",
        "## Validating the Bit Array Randomness "
      ]
    },
    {
      "cell_type": "code",
      "execution_count": 1,
      "metadata": {
        "id": "ggu3bJs0fetf"
      },
      "outputs": [],
      "source": [
        "import numpy as np\n",
        "import matplotlib\n",
        "import matplotlib.pyplot as plt\n",
        "from scipy.integrate import quad"
      ]
    },
    {
      "cell_type": "code",
      "source": [
        "matplotlib.rcParams.update({'font.size': 14})\n",
        "plt.style.use('ggplot')\n",
        "%matplotlib inline"
      ],
      "metadata": {
        "id": "_sOnYKC_S2uB"
      },
      "execution_count": 2,
      "outputs": []
    },
    {
      "cell_type": "code",
      "source": [
        "from google.colab import drive\n",
        "drive.mount('/content/drive')"
      ],
      "metadata": {
        "colab": {
          "base_uri": "https://localhost:8080/"
        },
        "id": "lZRrU_Frf7oh",
        "outputId": "eff64caf-aa5a-463d-a1bc-e0f30d8312c9"
      },
      "execution_count": 3,
      "outputs": [
        {
          "output_type": "stream",
          "name": "stdout",
          "text": [
            "Drive already mounted at /content/drive; to attempt to forcibly remount, call drive.mount(\"/content/drive\", force_remount=True).\n"
          ]
        }
      ]
    },
    {
      "cell_type": "code",
      "execution_count": 4,
      "metadata": {
        "id": "id1-863rfeth"
      },
      "outputs": [],
      "source": [
        "FOLDER_PATH = r\"/content/drive/MyDrive/LAB6/data/02_processed/\""
      ]
    },
    {
      "cell_type": "code",
      "execution_count": 5,
      "metadata": {
        "id": "WxBy-S0cfeth"
      },
      "outputs": [],
      "source": [
        "BACKGROUND_FILE = \"bit_fundo.csv\"\n",
        "CESIUM_25MM_FILE = \"bit_25mm_cs.csv\"\n",
        "CESIUM_65MM_FILE = \"bit_65mm_cs.csv\""
      ]
    },
    {
      "cell_type": "code",
      "source": [
        "bit_background = np.loadtxt(FOLDER_PATH + BACKGROUND_FILE, delimiter=\" \", dtype=int)"
      ],
      "metadata": {
        "id": "2xdrLl9Piisj"
      },
      "execution_count": 6,
      "outputs": []
    },
    {
      "cell_type": "code",
      "source": [
        "bit_25mm_cs = np.loadtxt(FOLDER_PATH + CESIUM_25MM_FILE, delimiter=\" \", dtype=int)"
      ],
      "metadata": {
        "id": "OD9FxvbxpPLt"
      },
      "execution_count": 7,
      "outputs": []
    },
    {
      "cell_type": "code",
      "source": [
        "bit_65mm_cs = np.loadtxt(FOLDER_PATH + CESIUM_65MM_FILE, delimiter=\" \", dtype=int)"
      ],
      "metadata": {
        "id": "eCiD2-SHppOi"
      },
      "execution_count": 8,
      "outputs": []
    },
    {
      "cell_type": "code",
      "source": [
        "def erfc(s):\n",
        "    \"\"\"Complementary Error Function\n",
        "    \"\"\"\n",
        "    def integrand(u):\n",
        "        return (2/np.sqrt(np.pi))*np.exp(-u**2)\n",
        "\n",
        "    return quad(integrand, s, np.inf)[0]"
      ],
      "metadata": {
        "id": "VTASfjkxl7hr"
      },
      "execution_count": 9,
      "outputs": []
    },
    {
      "cell_type": "code",
      "execution_count": 10,
      "metadata": {
        "id": "C7RdxZ62feti"
      },
      "outputs": [],
      "source": [
        "def frequency_test(bit_array: np.array, n_bit_streams: int=2) -> np.array:\n",
        "    bit_array = bit_array.copy()\n",
        "\n",
        "    bit_array = bit_array.reshape(n_bit_streams, -1)\n",
        "\n",
        "    pvalue_array = np.zeros(n_bit_streams, dtype=float)\n",
        "\n",
        "    for i, bit_stream in enumerate(bit_array):\n",
        "        S = abs(sum(bit_stream==1) - sum(bit_stream==0))\n",
        "        s_obs = S/np.sqrt(bit_stream.size)\n",
        "        \n",
        "        pvalue = erfc(s_obs/np.sqrt(2))\n",
        "\n",
        "        pvalue_array[i] = pvalue\n",
        "\n",
        "    return pvalue_array"
      ]
    },
    {
      "cell_type": "code",
      "source": [
        "p_valor_back = frequency_test(bit_background, n_bit_streams=10)\n",
        "p_valor_25 = frequency_test(bit_25mm_cs, n_bit_streams=1000)\n",
        "p_valor_65 = frequency_test(bit_65mm_cs, n_bit_streams=1000)"
      ],
      "metadata": {
        "id": "nCrn8syf6DKq"
      },
      "execution_count": 11,
      "outputs": []
    },
    {
      "cell_type": "code",
      "source": [
        "sum(p_valor_back>=0.01)"
      ],
      "metadata": {
        "id": "-tFaNHgptGrN",
        "outputId": "f96a0e5c-b06f-44c2-9bef-17d5546fb244",
        "colab": {
          "base_uri": "https://localhost:8080/"
        }
      },
      "execution_count": 12,
      "outputs": [
        {
          "output_type": "execute_result",
          "data": {
            "text/plain": [
              "10"
            ]
          },
          "metadata": {},
          "execution_count": 12
        }
      ]
    },
    {
      "cell_type": "code",
      "source": [
        "sum(p_valor_25>=0.01)"
      ],
      "metadata": {
        "id": "JjqV9WMos9IA",
        "outputId": "9324b2fb-2f59-4525-c3a0-0d11f7985d2d",
        "colab": {
          "base_uri": "https://localhost:8080/"
        }
      },
      "execution_count": 13,
      "outputs": [
        {
          "output_type": "execute_result",
          "data": {
            "text/plain": [
              "1000"
            ]
          },
          "metadata": {},
          "execution_count": 13
        }
      ]
    },
    {
      "cell_type": "code",
      "source": [
        "sum(p_valor_65>=0.01)"
      ],
      "metadata": {
        "id": "F2N53JPTsnns",
        "outputId": "5cfeb0b9-a52f-4bbd-9f86-f67c89ed42ed",
        "colab": {
          "base_uri": "https://localhost:8080/"
        }
      },
      "execution_count": 14,
      "outputs": [
        {
          "output_type": "execute_result",
          "data": {
            "text/plain": [
              "1000"
            ]
          },
          "metadata": {},
          "execution_count": 14
        }
      ]
    },
    {
      "cell_type": "code",
      "source": [
        "fig, ax = plt.subplots(2,1, figsize=(8,8), sharex=True, gridspec_kw={'hspace':0})\n",
        "\n",
        "fig.suptitle('Distribuição do valor-p', y=0.94)\n",
        "\n",
        "ax[0].hist(p_valor_25, bins=20, edgecolor='black', label='25mm')\n",
        "ax[1].hist(p_valor_65, bins=20, color='green', edgecolor='black', label='65mm')\n",
        "\n",
        "ax[0].set_ylabel('Contagens')\n",
        "ax[0].legend(loc='upper left')\n",
        "\n",
        "ax[1].set_ylabel('Contagens')\n",
        "ax[1].set_xlabel('p')\n",
        "ax[1].legend(loc='upper left')\n",
        "\n",
        "plt.savefig('histograma_p.png')\n",
        "plt.show()"
      ],
      "metadata": {
        "id": "e2UwLAtP2kaF",
        "outputId": "7070d24a-a968-4a75-ff93-bbf12b4d2449",
        "colab": {
          "base_uri": "https://localhost:8080/",
          "height": 534
        }
      },
      "execution_count": 15,
      "outputs": [
        {
          "output_type": "display_data",
          "data": {
            "text/plain": [
              "<Figure size 576x576 with 2 Axes>"
            ],
            "image/png": "[encoded data removed]"
          },
          "metadata": {
            "needs_background": "light"
          }
        }
      ]
    }
  ],
  "metadata": {
    "kernelspec": {
      "display_name": "base",
      "language": "python",
      "name": "python3"
    },
    "language_info": {
      "codemirror_mode": {
        "name": "ipython",
        "version": 3
      },
      "file_extension": ".py",
      "mimetype": "text/x-python",
      "name": "python",
      "nbconvert_exporter": "python",
      "pygments_lexer": "ipython3",
      "version": "3.9.13"
    },
    "orig_nbformat": 4,
    "vscode": {
      "interpreter": {
        "hash": "bbe3c7c8ecac9c815b8c35358e3af74cf692500f19e74b6b7e87270d16e54c29"
      }
    },
    "colab": {
      "provenance": [],
      "include_colab_link": true
    }
  },
  "nbformat": 4,
  "nbformat_minor": 0
}