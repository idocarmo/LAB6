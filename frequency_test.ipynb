{
  "cells": [
    {
      "cell_type": "markdown",
      "metadata": {
        "id": "qA9xXwKpfetc"
      },
      "source": [
        "# Frequency Test\n",
        "## Validating the Bit Array Randomness "
      ]
    },
    {
      "cell_type": "code",
      "execution_count": 25,
      "metadata": {
        "id": "ggu3bJs0fetf"
      },
      "outputs": [],
      "source": [
        "import numpy as np\n",
        "import matplotlib.pyplot as plt\n",
        "from scipy.integrate import quad\n",
        "\n",
        "\n",
        "import logging"
      ]
    },
    {
      "cell_type": "code",
      "source": [
        "from google.colab import drive\n",
        "drive.mount('/content/drive')"
      ],
      "metadata": {
        "colab": {
          "base_uri": "https://localhost:8080/"
        },
        "id": "lZRrU_Frf7oh",
        "outputId": "0b7ac379-120b-4b79-bbf1-16e588b02222"
      },
      "execution_count": 2,
      "outputs": [
        {
          "output_type": "stream",
          "name": "stdout",
          "text": [
            "Mounted at /content/drive\n"
          ]
        }
      ]
    },
    {
      "cell_type": "code",
      "execution_count": 7,
      "metadata": {
        "id": "id1-863rfeth"
      },
      "outputs": [],
      "source": [
        "FOLDER_PATH = r\"/content/drive/MyDrive/LAB6/data/02_processed/\""
      ]
    },
    {
      "cell_type": "code",
      "execution_count": 8,
      "metadata": {
        "id": "WxBy-S0cfeth"
      },
      "outputs": [],
      "source": [
        "BACKGROUND_FILE = \"bit_fundo.csv\"\n",
        "CESIUM_25MM_FILE = \"bit_25mm_cs.csv\"\n",
        "CESIUM_65MM_FILE = \"bit_65mm_cs.csv\""
      ]
    },
    {
      "cell_type": "code",
      "source": [
        "bit_background = []\n",
        "with open(FOLDER_PATH + BACKGROUND_FILE, \"r\") as my_file:\n",
        "    for line in my_file:\n",
        "        for item in line.strip():\n",
        "            bit_background.append(int(item))\n",
        "\n",
        "bit_background = np.array(bit_background)"
      ],
      "metadata": {
        "id": "2xdrLl9Piisj"
      },
      "execution_count": 86,
      "outputs": []
    },
    {
      "cell_type": "code",
      "source": [
        "bit_25mm_cs = np.loadtxt(FOLDER_PATH + CESIUM_25MM_FILE, delimiter=\" \", dtype=int)\n",
        "bit_25mm_cs = bit_25mm_cs.flatten()"
      ],
      "metadata": {
        "id": "OD9FxvbxpPLt"
      },
      "execution_count": 58,
      "outputs": []
    },
    {
      "cell_type": "code",
      "source": [
        "bit_65mm_cs = np.loadtxt(FOLDER_PATH + CESIUM_65MM_FILE, delimiter=\" \", dtype=int)\n",
        "bit_65mm_cs = bit_65mm_cs.flatten()"
      ],
      "metadata": {
        "id": "eCiD2-SHppOi"
      },
      "execution_count": 60,
      "outputs": []
    },
    {
      "cell_type": "code",
      "source": [
        "def erfc(s):\n",
        "    \"\"\"Complementary Error Function\n",
        "    \"\"\"\n",
        "    def integrand(u):\n",
        "        return (2/np.sqrt(np.pi))*np.exp(-u**2)\n",
        "\n",
        "    return quad(integrand, s, np.inf)[0]"
      ],
      "metadata": {
        "id": "VTASfjkxl7hr"
      },
      "execution_count": 34,
      "outputs": []
    },
    {
      "cell_type": "code",
      "execution_count": 74,
      "metadata": {
        "id": "C7RdxZ62feti"
      },
      "outputs": [],
      "source": [
        "def frequency_test(bit_array: np.array, n_bit_streams: int=2) -> np.array:\n",
        "    bit_array = bit_array.copy()\n",
        "\n",
        "    bit_array = bit_array.reshape(n_bit_streams, -1)\n",
        "\n",
        "    pvalue_array = np.zeros(n_bit_streams, dtype=float)\n",
        "\n",
        "    for i, bit_stream in enumerate(bit_array):\n",
        "        S = abs(sum(bit_stream==1) - sum(bit_stream==0))\n",
        "        s_obs = S/np.sqrt(bit_stream.size)\n",
        "        \n",
        "        pvalue = erfc(s_obs/np.sqrt(2))\n",
        "\n",
        "        pvalue_array[i] = pvalue\n",
        "\n",
        "    return pvalue_array"
      ]
    },
    {
      "cell_type": "code",
      "source": [
        "frequency_test(bit_background, n_bit_streams=10)"
      ],
      "metadata": {
        "id": "-tFaNHgptGrN",
        "outputId": "c5bb8eb3-aab7-499d-d7bb-472cce4f0eb7",
        "colab": {
          "base_uri": "https://localhost:8080/"
        }
      },
      "execution_count": 97,
      "outputs": [
        {
          "output_type": "execute_result",
          "data": {
            "text/plain": [
              "array([0.31731051, 0.76417716, 0.84148058, 0.80258735, 0.34211225,\n",
              "       0.68915652, 0.88076462, 0.61707508, 0.61707508, 0.51569222])"
            ]
          },
          "metadata": {},
          "execution_count": 97
        }
      ]
    },
    {
      "cell_type": "code",
      "source": [
        "sum(frequency_test(bit_25mm_cs, n_bit_streams=1000)>0.01)"
      ],
      "metadata": {
        "id": "JjqV9WMos9IA",
        "outputId": "2f09d3d3-ca01-4323-ca5b-96f9b179bdd5",
        "colab": {
          "base_uri": "https://localhost:8080/"
        }
      },
      "execution_count": 101,
      "outputs": [
        {
          "output_type": "execute_result",
          "data": {
            "text/plain": [
              "997"
            ]
          },
          "metadata": {},
          "execution_count": 101
        }
      ]
    },
    {
      "cell_type": "code",
      "source": [
        "sum(frequency_test(bit_65mm_cs, n_bit_streams=1000)>0.01)"
      ],
      "metadata": {
        "id": "F2N53JPTsnns",
        "outputId": "2956edc2-9363-4478-94ee-9822e8fd438b",
        "colab": {
          "base_uri": "https://localhost:8080/"
        }
      },
      "execution_count": 100,
      "outputs": [
        {
          "output_type": "execute_result",
          "data": {
            "text/plain": [
              "995"
            ]
          },
          "metadata": {},
          "execution_count": 100
        }
      ]
    }
  ],
  "metadata": {
    "kernelspec": {
      "display_name": "base",
      "language": "python",
      "name": "python3"
    },
    "language_info": {
      "codemirror_mode": {
        "name": "ipython",
        "version": 3
      },
      "file_extension": ".py",
      "mimetype": "text/x-python",
      "name": "python",
      "nbconvert_exporter": "python",
      "pygments_lexer": "ipython3",
      "version": "3.9.13"
    },
    "orig_nbformat": 4,
    "vscode": {
      "interpreter": {
        "hash": "bbe3c7c8ecac9c815b8c35358e3af74cf692500f19e74b6b7e87270d16e54c29"
      }
    },
    "colab": {
      "provenance": []
    }
  },
  "nbformat": 4,
  "nbformat_minor": 0
}