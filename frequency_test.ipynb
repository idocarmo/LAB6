{
  "cells": [
    {
      "cell_type": "markdown",
      "metadata": {
        "id": "qA9xXwKpfetc"
      },
      "source": [
        "# Frequency Test\n",
        "## Validating the Bit array Randomness "
      ]
    },
    {
      "cell_type": "code",
      "execution_count": 1,
      "metadata": {
        "id": "ggu3bJs0fetf"
      },
      "outputs": [],
      "source": [
        "import numpy as np\n",
        "import matplotlib.pyplot as plt"
      ]
    },
    {
      "cell_type": "code",
      "source": [
        "from google.colab import drive\n",
        "drive.mount('/content/drive')"
      ],
      "metadata": {
        "id": "lZRrU_Frf7oh",
        "outputId": "0b7ac379-120b-4b79-bbf1-16e588b02222",
        "colab": {
          "base_uri": "https://localhost:8080/"
        }
      },
      "execution_count": 2,
      "outputs": [
        {
          "output_type": "stream",
          "name": "stdout",
          "text": [
            "Mounted at /content/drive\n"
          ]
        }
      ]
    },
    {
      "cell_type": "code",
      "execution_count": 7,
      "metadata": {
        "id": "id1-863rfeth"
      },
      "outputs": [],
      "source": [
        "FOLDER_PATH = r\"/content/drive/MyDrive/LAB6/data/02_processed/\""
      ]
    },
    {
      "cell_type": "code",
      "execution_count": 8,
      "metadata": {
        "id": "WxBy-S0cfeth"
      },
      "outputs": [],
      "source": [
        "BACKGROUND_FILE = \"bit_fundo.csv\"\n",
        "CESIUM_25MM_FILE = \"bit_25mm_cs.csv\"\n",
        "CESIUM_65MM_FILE = \"bit_65mm_cs.csv\""
      ]
    },
    {
      "cell_type": "code",
      "source": [
        "bit_background = []\n",
        "with open(FOLDER_PATH + BACKGROUND_FILE, \"r\") as my_file:\n",
        "    for line in my_file:\n",
        "        for item in line.strip():\n",
        "            bit_background.append(int(item))\n",
        "\n",
        "bit_background = np.array(bit_background)"
      ],
      "metadata": {
        "id": "2xdrLl9Piisj"
      },
      "execution_count": 21,
      "outputs": []
    },
    {
      "cell_type": "code",
      "execution_count": null,
      "metadata": {
        "id": "C7RdxZ62feti"
      },
      "outputs": [],
      "source": [
        "def frequency_test(bit_array: np.array, n_bit_streams: int=2) -> np.array:\n",
        "    bit_array = bit_array.copy()\n",
        "\n",
        "    bit_array = bit_array.reshape(2, -1)\n",
        "\n",
        "    pvalue_array = np.zeros(n_bit_streams)\n",
        "\n",
        "    for bit_stream in bit_array:\n",
        "        S = \n",
        "    return"
      ]
    }
  ],
  "metadata": {
    "kernelspec": {
      "display_name": "base",
      "language": "python",
      "name": "python3"
    },
    "language_info": {
      "codemirror_mode": {
        "name": "ipython",
        "version": 3
      },
      "file_extension": ".py",
      "mimetype": "text/x-python",
      "name": "python",
      "nbconvert_exporter": "python",
      "pygments_lexer": "ipython3",
      "version": "3.9.13"
    },
    "orig_nbformat": 4,
    "vscode": {
      "interpreter": {
        "hash": "bbe3c7c8ecac9c815b8c35358e3af74cf692500f19e74b6b7e87270d16e54c29"
      }
    },
    "colab": {
      "provenance": []
    }
  },
  "nbformat": 4,
  "nbformat_minor": 0
}